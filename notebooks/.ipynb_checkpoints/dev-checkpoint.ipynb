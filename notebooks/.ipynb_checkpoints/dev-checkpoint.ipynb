{
 "cells": [
  {
   "cell_type": "code",
   "execution_count": 1,
   "id": "e06eb342",
   "metadata": {
    "ExecuteTime": {
     "end_time": "2022-03-11T00:50:11.794322Z",
     "start_time": "2022-03-11T00:50:11.618397Z"
    }
   },
   "outputs": [],
   "source": [
    "import cv2"
   ]
  },
  {
   "cell_type": "code",
   "execution_count": 2,
   "id": "2f46240c",
   "metadata": {
    "ExecuteTime": {
     "end_time": "2022-03-11T00:50:13.620225Z",
     "start_time": "2022-03-11T00:50:13.616609Z"
    }
   },
   "outputs": [],
   "source": [
    "cv2.VideoWriter_fourcc?"
   ]
  },
  {
   "cell_type": "markdown",
   "id": "298328e1",
   "metadata": {},
   "source": [
    "Our identity network model is\n",
    "$$\n",
    "\\hat y_\\text{face & voice} (\\text{Jenny}) = \\min \\Big( \\hat y_\\text{face $\\vee$ voice} (\\text{Jenny}), \\hat y_\\text{face & voice} (\\text{Anyone}) \\Big)  \n",
    "$$\n",
    "\n",
    "where we predict the presence of the face and voice of Jenny for trials exhibiting $\\hat y_\\text{face & voice} (\\text{Jenny})>0.5$.\n",
    "\n",
    "Our multiple concept recognition decoder (MCRD) is given only identity-match trials as inputs; \n",
    "it operates without conflicting input modes.  The identity predicted by our MCRD is \n",
    "\n",
    "$$\n",
    "\\text{Predicted Identity} = \\underset{i\\in\\{\\text{Jenny},\\text{Copper},\\text{Han},...\\}}{\\text{argmax}}\\Big(\\hat y_\\text{face $\\vee$ voice} (i)\\Big),\n",
    "$$\n",
    "\n",
    "where the spike times of neurons are used to compute $\\hat y_\\text{face $\\vee$ voice} (i)$ as a number between 0 and 1.  The predicted identity for that trial is then the identity, $i$, that exhibits the maximum value for $\\hat y_\\text{face $\\vee$ voice} (i)$.\n",
    "\n",
    "Our MCRD applied to our social recognition experiment illustrates the general case for MCRD models by replacing \"identity\" with \"concept\" and by replacing \\{Jenny, Copper, Han, ...\\} with a collection of concepts encoded in arrival times, $C$.  We demonstrate the ability of MCRD's to predict the presence multiple concepts in $C$."
   ]
  },
  {
   "cell_type": "code",
   "execution_count": null,
   "id": "824ef6d1",
   "metadata": {},
   "outputs": [],
   "source": []
  }
 ],
 "metadata": {
  "hide_input": false,
  "kernelspec": {
   "display_name": "Python 3 (ipykernel)",
   "language": "python",
   "name": "python3"
  },
  "language_info": {
   "codemirror_mode": {
    "name": "ipython",
    "version": 3
   },
   "file_extension": ".py",
   "mimetype": "text/x-python",
   "name": "python",
   "nbconvert_exporter": "python",
   "pygments_lexer": "ipython3",
   "version": "3.9.5"
  },
  "nbTranslate": {
   "displayLangs": [
    "*"
   ],
   "hotkey": "alt-t",
   "langInMainMenu": true,
   "sourceLang": "en",
   "targetLang": "fr",
   "useGoogleTranslate": true
  },
  "toc": {
   "base_numbering": 1,
   "nav_menu": {},
   "number_sections": true,
   "sideBar": true,
   "skip_h1_title": false,
   "title_cell": "Table of Contents",
   "title_sidebar": "Contents",
   "toc_cell": false,
   "toc_position": {},
   "toc_section_display": true,
   "toc_window_display": false
  }
 },
 "nbformat": 4,
 "nbformat_minor": 5
}
